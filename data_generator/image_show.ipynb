{
 "cells": [
  {
   "cell_type": "code",
   "execution_count": null,
   "metadata": {},
   "outputs": [],
   "source": [
    "import os\n",
    "import sys\n",
    "from keras.models import Model\n",
    "from keras.layers import concatenate\n",
    "from keras.utils.data_utils import get_file\n",
    "from keras.optimizers import RMSprop\n",
    "from data_generator.config import mpii_sp_dataconf\n",
    "from data_generator.mpii import MpiiSinglePerson\n",
    "from data_generator.loader import BatchLoader\n",
    "from models.losses import pose_regression_loss\n",
    "from models import reception\n",
    "from models.mpii_tools import eval_singleperson_pckh\n",
    "from models.mpii_tools import MpiiEvalCallback\n",
    "from keras.callbacks import LearningRateScheduler\n",
    "from models.callbacks import SaveModel\n",
    "from data_generator.io_operate import *\n",
    "import tensorflow as tf\n",
    "from keras.backend.tensorflow_backend import set_session"
   ]
  },
  {
   "cell_type": "code",
   "execution_count": null,
   "metadata": {},
   "outputs": [],
   "source": [
    "config = tf.ConfigProto()\n",
    "config.gpu_options.allow_growth = True\n",
    "set_session(tf.Session(config=config))\n",
    "num_blocks = 8\n",
    "batch_size = 12\n",
    "input_shape = mpii_sp_dataconf.input_shape\n",
    "num_joints = 16\n",
    "dataset_path = './data/mpii/'\n",
    "weights_path = './weights_mpii_001.h5'\n",
    "TEST_MODE = 0\n",
    "TRAIN_MODE = 1\n",
    "VALID_MODE = 2"
   ]
  },
  {
   "cell_type": "code",
   "execution_count": null,
   "metadata": {},
   "outputs": [],
   "source": [
    "weights_path1 = './weights_PE_MPII_cvpr18_19-09-2017.h5'\n",
    "weights_path2 = './weights_mpii_120.h5'"
   ]
  },
  {
   "cell_type": "code",
   "execution_count": null,
   "metadata": {},
   "outputs": [],
   "source": [
    "model = reception.build(input_shape, num_joints, dim=2,num_blocks=num_blocks, num_context_per_joint=2, ksize=(5, 5))"
   ]
  },
  {
   "cell_type": "code",
   "execution_count": null,
   "metadata": {},
   "outputs": [],
   "source": [
    "model.load_weights(weights_path2)"
   ]
  },
  {
   "cell_type": "code",
   "execution_count": null,
   "metadata": {},
   "outputs": [],
   "source": [
    "mpii = MpiiSinglePerson(dataset_path, dataconf=mpii_sp_dataconf)\n",
    "mpii_val = BatchLoader(mpii, x_dictkeys=['frame'],y_dictkeys=['pose', 'afmat', 'headsize'], mode=VALID_MODE,\\\n",
    "              batch_size=mpii.get_length(VALID_MODE), num_predictions=1,shuffle=False)"
   ]
  },
  {
   "cell_type": "code",
   "execution_count": null,
   "metadata": {},
   "outputs": [],
   "source": [
    "[x_val], [p_val, afmat_val, head_val] = mpii_val[0]"
   ]
  },
  {
   "cell_type": "code",
   "execution_count": null,
   "metadata": {},
   "outputs": [],
   "source": [
    "inputs = [x_val]\n",
    "pred = model.predict(inputs, batch_size=batch_size, verbose=1)"
   ]
  },
  {
   "cell_type": "code",
   "execution_count": null,
   "metadata": {},
   "outputs": [],
   "source": [
    "from data_generator.transform import transform_pose_sequence"
   ]
  },
  {
   "cell_type": "code",
   "execution_count": null,
   "metadata": {},
   "outputs": [],
   "source": [
    "y_pred = pred[7]\n",
    "y_pred = y_pred[:, :, 0:2]\n",
    "y_pred = transform_pose_sequence(afmat_val.copy(), y_pred, inverse=True)"
   ]
  },
  {
   "cell_type": "code",
   "execution_count": null,
   "metadata": {},
   "outputs": [],
   "source": [
    "y_pred"
   ]
  },
  {
   "cell_type": "code",
   "execution_count": null,
   "metadata": {},
   "outputs": [],
   "source": [
    "import numpy as np "
   ]
  },
  {
   "cell_type": "code",
   "execution_count": null,
   "metadata": {},
   "outputs": [],
   "source": [
    "save_path = './test/y_pred.npy'"
   ]
  },
  {
   "cell_type": "code",
   "execution_count": null,
   "metadata": {},
   "outputs": [],
   "source": [
    "np.save(save_path,y_pred)"
   ]
  },
  {
   "cell_type": "code",
   "execution_count": null,
   "metadata": {},
   "outputs": [],
   "source": [
    "import numpy as np \n",
    "import os\n",
    "import cv2\n",
    "import scipy.io as scio "
   ]
  },
  {
   "cell_type": "code",
   "execution_count": 1,
   "metadata": {},
   "outputs": [],
   "source": [
    "img_path = './data/mpii/images'\n",
    "annot_path = './data/mpii/annotation/model_test.mat'\n",
    "save_path = './test/y_pred.npy'\n",
    "out_path = './test/test_img'"
   ]
  },
  {
   "cell_type": "code",
   "execution_count": null,
   "metadata": {},
   "outputs": [],
   "source": [
    "y_pred = np.load(save_path)\n",
    "annot = scio.loadmat(annot_path)\n",
    "annot = annot['annot_val']\n",
    "\n",
    "y_pred = y_pred.astype(np.int16)\n",
    "point_color = [(255,0,0),(0,255,0),(0,0,255),(128,128,0),(0,128,128),(128,0,128)]\n",
    "map_from_mpii = [6, 7, 8, 9, 12, 13, 11, 14, 10, 15, 2, 3, 1, 4, 0, 5]\n",
    "map_to_mpii = [14, 12, 10, 11, 13, 15, 0, 1, 2, 3, 8, 6, 4, 5, 7, 9]\n",
    "y_pred = y_pred[:,map_to_mpii,:]\n",
    "peo_num = len(annot)\n",
    "connect = [[0,1,2,6],[6,3,4,5],[6,7,8,9],[8,12,11,10],[8,13,14,15]]"
   ]
  },
  {
   "cell_type": "code",
   "execution_count": null,
   "metadata": {},
   "outputs": [],
   "source": [
    "for i in range(peo_num):\n",
    "    img_name = annot[i]['name'][0][0][0][:-1]\n",
    "    img = cv2.imread(os.path.join(out_path,img_name))\n",
    "    for j in range(len(connect)):\n",
    "        connecting = connect[j]\n",
    "        center0 = (y_pred[i][connecting[0]][0],y_pred[i][connecting[0]][1])\n",
    "        center1 = (y_pred[i][connecting[1]][0],y_pred[i][connecting[1]][1])\n",
    "        center2 = (y_pred[i][connecting[2]][0],y_pred[i][connecting[2]][1])\n",
    "        center3 = (y_pred[i][connecting[3]][0],y_pred[i][connecting[3]][1])\n",
    "        cv2.line(img,center0 ,center1,point_color[j],5)\n",
    "        cv2.line(img,center1 ,center2,point_color[j],5)\n",
    "        cv2.line(img,center2 ,center3,point_color[j],5) \n",
    "    cv2.imwrite(os.path.join(out_path,img_name), img)"
   ]
  },
  {
   "cell_type": "code",
   "execution_count": null,
   "metadata": {
    "scrolled": true
   },
   "outputs": [],
   "source": [
    "map_from_mpii = [6, 7, 8, 9, 12, 13, 11, 14, 10, 15, 2, 3, 1, 4, 0, 5]\n",
    "map_to_mpii = [14, 12, 10, 11, 13, 15, 0, 1, 2, 3, 8, 6, 4, 5, 7, 9]\n",
    "y_pred = y_pred[:,map_to_mpii,:]\n",
    "img_name = annot[0]['name'][0][0][0][:-1]\n",
    "img = cv2.imread(os.path.join(img_path,img_name))\n",
    "for i in range(16):\n",
    "    center = (y_pred[0][i][0],y_pred[0][i][1])\n",
    "    cv2.circle(img, center,5,point_color[0], -1)\n",
    "    cv2.imwrite(os.path.join(out_path,img_name[:9]+'_'+str(i)+img_name[9:]),img)"
   ]
  },
  {
   "cell_type": "code",
   "execution_count": null,
   "metadata": {},
   "outputs": [],
   "source": [
    "cv2.imshow('input_image', img)\n",
    "cv2.waitKey(0)\n",
    "cv2.destroyAllWindows()"
   ]
  },
  {
   "cell_type": "code",
   "execution_count": null,
   "metadata": {},
   "outputs": [],
   "source": [
    "import shutil\n",
    "img_name = os.listdir('./test/test_img')\n",
    "del(img_name[7])\n",
    "for i in img_name:\n",
    "    srcimg = os.path.join(img_path,i)\n",
    "    dstimg = os.path.join(out_path,i)\n",
    "    shutil.copyfile(srcimg,dstimg)"
   ]
  },
  {
   "cell_type": "code",
   "execution_count": 25,
   "metadata": {},
   "outputs": [],
   "source": [
    "import PIL.Image as Image\n",
    "import os\n",
    "img_path = './ntu_pose/mpii_3d_pose'\n",
    "img_format = ['.jpg', '.JPG']  # 图片格式\n",
    "size_col = 918  # 每张小图片的大小\n",
    "size_row = 426\n",
    "img_row = 2 # 图片间隔，也就是合并成一张图后，一共有几行\n",
    "img_column = 3  # 图片间隔，也就是合并成一张图后，一共有几列\n",
    "img_save_path = os.path.join(img_path,'final.jpg')\n",
    " \n",
    "# 获取图片集地址下的所有图片名称\n",
    "#img_names = os.listdir(img_path)\n",
    "#del(img_names[7])\n",
    "#for i in range(11):\n",
    "    #path = os.path.join(img_path,img_names[i])\n",
    "    #if(os.path.isfile(path)):\n",
    "     #   img = Image.open(path)\n",
    "      #  print(img.size)"
   ]
  },
  {
   "cell_type": "code",
   "execution_count": 26,
   "metadata": {},
   "outputs": [],
   "source": [
    "img_name = ['14.jpg','17.jpg','18.jpg','4.jpg','5.jpg','7.jpg']"
   ]
  },
  {
   "cell_type": "code",
   "execution_count": 27,
   "metadata": {},
   "outputs": [],
   "source": [
    "to_image = Image.new('RGB', (img_column * size_col, img_row * size_row)) #创建一个新图\n",
    "for y in range(img_row):\n",
    "    for x in range(img_column):\n",
    "        path = os.path.join(img_path,img_name[3*y + x])\n",
    "        if(os.path.isfile(path)):\n",
    "            from_image = Image.open(path)#.resize((img_size, img_size),Image.ANTIALIAS)\n",
    "            to_image.paste(from_image, (x * size_col, y * size_row))\n",
    "to_image.save(img_save_path) \n"
   ]
  },
  {
   "cell_type": "code",
   "execution_count": 15,
   "metadata": {},
   "outputs": [],
   "source": [
    "del(img_names[6])"
   ]
  },
  {
   "cell_type": "code",
   "execution_count": 16,
   "metadata": {},
   "outputs": [
    {
     "data": {
      "text/plain": [
       "['000391837.jpg',\n",
       " '000377819.jpg',\n",
       " '000172482.jpg',\n",
       " '000156511.jpg',\n",
       " '000025245.jpg',\n",
       " '000040154.jpg',\n",
       " '000338399.jpg',\n",
       " '000142834.jpg']"
      ]
     },
     "execution_count": 16,
     "metadata": {},
     "output_type": "execute_result"
    }
   ],
   "source": [
    "img_names"
   ]
  },
  {
   "cell_type": "code",
   "execution_count": 19,
   "metadata": {},
   "outputs": [],
   "source": [
    "img = Image.open('./ntu_pose/mpii_3d_pose/17.jpg')"
   ]
  },
  {
   "cell_type": "code",
   "execution_count": 28,
   "metadata": {},
   "outputs": [
    {
     "data": {
      "text/plain": [
       "(918, 426)"
      ]
     },
     "execution_count": 28,
     "metadata": {},
     "output_type": "execute_result"
    }
   ],
   "source": [
    "img.size"
   ]
  },
  {
   "cell_type": "code",
   "execution_count": null,
   "metadata": {},
   "outputs": [],
   "source": []
  }
 ],
 "metadata": {
  "kernelspec": {
   "display_name": "Python 3",
   "language": "python",
   "name": "python3"
  },
  "language_info": {
   "codemirror_mode": {
    "name": "ipython",
    "version": 3
   },
   "file_extension": ".py",
   "mimetype": "text/x-python",
   "name": "python",
   "nbconvert_exporter": "python",
   "pygments_lexer": "ipython3",
   "version": "3.6.7"
  }
 },
 "nbformat": 4,
 "nbformat_minor": 2
}
